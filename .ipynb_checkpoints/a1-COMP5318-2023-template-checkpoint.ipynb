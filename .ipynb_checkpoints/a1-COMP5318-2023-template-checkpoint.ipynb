{
 "cells": [
  {
   "cell_type": "markdown",
   "metadata": {},
   "source": [
    "# COMP5318 Assignment 1: Classification"
   ]
  },
  {
   "cell_type": "markdown",
   "metadata": {},
   "source": [
    "### Group number: A1part2 6  , SID1: 520080414   "
   ]
  },
  {
   "cell_type": "code",
   "execution_count": 73,
   "metadata": {},
   "outputs": [],
   "source": [
    "import data as data\n",
    "# Import all libraries\n",
    "from sklearn.ensemble import BaggingClassifier, AdaBoostClassifier, GradientBoostingClassifier\n",
    "from sklearn.model_selection import StratifiedKFold\n",
    "from sklearn.neighbors import KNeighborsClassifier\n",
    "from sklearn.model_selection import cross_val_score\n",
    "from sklearn.model_selection import train_test_split\n",
    "from sklearn.ensemble import RandomForestClassifier\n",
    "from sklearn.model_selection import GridSearchCV\n",
    "from sklearn.naive_bayes import GaussianNB\n",
    "from sklearn.linear_model import LogisticRegression\n",
    "from sklearn.impute import SimpleImputer\n",
    "from sklearn.metrics import f1_score\n",
    "from sklearn.tree import DecisionTreeClassifier\n",
    "from sklearn.preprocessing import MinMaxScaler\n",
    "from sklearn.preprocessing import LabelEncoder\n",
    "from sklearn.datasets import data\n",
    "from pandas.core import frame\n",
    "from sklearn.svm import SVC\n",
    "from sklearn import datasets\n",
    "from sklearn import preprocessing\n",
    "from sklearn.datasets import load_iris\n",
    "import numpy as np\n",
    "import pandas as pd"
   ]
  },
  {
   "cell_type": "code",
   "execution_count": 74,
   "metadata": {},
   "outputs": [],
   "source": [
    "\n",
    "\n",
    "# Load dataset\n",
    "df = pd.read_csv('breast-cancer-wisconsin.csv')\n"
   ]
  },
  {
   "cell_type": "code",
   "execution_count": 75,
   "metadata": {},
   "outputs": [],
   "source": [
    "# Pre-process dataset\n",
    "\n",
    "df = df.replace('?', np.nan).replace('class1',0).replace('class2',1)\n",
    "feature = df.iloc[:, 0:-1]\n",
    "imputer = SimpleImputer(missing_values=np.nan, strategy='mean')\n",
    "\n",
    "features = imputer.fit_transform(feature)\n",
    "scaler = MinMaxScaler()\n",
    "\n",
    "X = scaler.fit_transform(features)\n",
    "\n",
    "classes = df.iloc[:, -1].tolist()\n",
    "labels = np.unique(classes)\n",
    "lEnc = LabelEncoder()\n",
    "lEnc.fit(labels)\n",
    "label_encoder = lEnc.transform(classes)\n",
    "numClass = len(labels)\n",
    "\n",
    "y = label_encoder.astype(np.float64)\n"
   ]
  },
  {
   "cell_type": "code",
   "execution_count": 76,
   "metadata": {},
   "outputs": [
    {
     "name": "stdout",
     "output_type": "stream",
     "text": [
      "0.4444,0.0000,0.0000,0.0000,0.1111,0.0000,0.2222,0.0000,0.0000,0\n",
      "0.4444,0.3333,0.3333,0.4444,0.6667,1.0000,0.2222,0.1111,0.0000,0\n",
      "0.2222,0.0000,0.0000,0.0000,0.1111,0.1111,0.2222,0.0000,0.0000,0\n",
      "0.5556,0.7778,0.7778,0.0000,0.2222,0.3333,0.2222,0.6667,0.0000,0\n",
      "0.3333,0.0000,0.0000,0.2222,0.1111,0.0000,0.2222,0.0000,0.0000,0\n",
      "0.7778,1.0000,1.0000,0.7778,0.6667,1.0000,0.8889,0.6667,0.0000,1\n",
      "0.0000,0.0000,0.0000,0.0000,0.1111,1.0000,0.2222,0.0000,0.0000,0\n",
      "0.1111,0.0000,0.1111,0.0000,0.1111,0.0000,0.2222,0.0000,0.0000,0\n",
      "0.1111,0.0000,0.0000,0.0000,0.1111,0.0000,0.0000,0.0000,0.4444,0\n",
      "0.3333,0.1111,0.0000,0.0000,0.1111,0.0000,0.1111,0.0000,0.0000,0\n"
     ]
    }
   ],
   "source": [
    "# Print first ten rows of pre-processed dataset to 4 decimal places as per assignment spec\n",
    "# A function is provided to assist\n",
    "\n",
    "dataframe = df.replace('?',np.nan).replace('class1',0).replace('class2',1)\n",
    "simputer = SimpleImputer(missing_values=np.nan,strategy='mean')\n",
    "minmaxscaler = preprocessing.MinMaxScaler()\n",
    "dataset = imputer.fit_transform(dataframe)\n",
    "dataset = minmaxscaler.fit_transform(dataset)\n",
    "\n",
    "def print_data(X, n_rows=10):\n",
    "    \"\"\"Takes a numpy data array and target and prints the first ten rows.\n",
    "\n",
    "    Arguments:\n",
    "        X: numpy array of shape (n_examples, n_features)\n",
    "        y: numpy array of shape (n_examples)\n",
    "        n_rows: numpy of rows to print\n",
    "    \"\"\"\n",
    "    for example_num in range(n_rows):\n",
    "        for feature in X[example_num][0:-1:1]:\n",
    "            print(\"{:.4f}\".format(feature), end=\",\")\n",
    "        print(int(X[example_num][-1]))\n",
    "\n",
    "print_data(dataset)\n"
   ]
  },
  {
   "cell_type": "markdown",
   "metadata": {},
   "source": [
    "### Part 1: Cross-validation without parameter tuning"
   ]
  },
  {
   "cell_type": "code",
   "execution_count": 77,
   "metadata": {},
   "outputs": [],
   "source": [
    "## Setting the 10 fold stratified cross-validation\n",
    "cvKFold=StratifiedKFold(n_splits=10, shuffle=True, random_state=0)\n",
    "\n",
    "# The stratified folds from cvKFold should be provided to the classifiers"
   ]
  },
  {
   "cell_type": "code",
   "execution_count": 78,
   "metadata": {},
   "outputs": [],
   "source": [
    "# Logistic Regression\n",
    "def logregClassifier(X, y):\n",
    "    logreg = LogisticRegression(random_state=0)\n",
    "    scores = cross_val_score(logreg, np.asarray(X, dtype='float64'), y, cv=cvKFold)\n",
    "    return scores.mean()"
   ]
  },
  {
   "cell_type": "code",
   "execution_count": 79,
   "metadata": {},
   "outputs": [],
   "source": [
    "#Naïve Bayes\n",
    "def nbClassifier(X, y):\n",
    "    nb = GaussianNB()\n",
    "    scores = cross_val_score(nb, np.asarray(X, dtype='float64'), y, cv=cvKFold)\n",
    "    return scores.mean()"
   ]
  },
  {
   "cell_type": "code",
   "execution_count": 80,
   "metadata": {},
   "outputs": [],
   "source": [
    "# Decision Tree\n",
    "def dtClassifier(X, y):\n",
    "    tree = DecisionTreeClassifier(criterion='entropy', random_state=0)\n",
    "    scores = cross_val_score(tree, np.asarray(X, dtype='float64'), y, cv=cvKFold)\n",
    "    return scores.mean()"
   ]
  },
  {
   "cell_type": "code",
   "execution_count": 81,
   "metadata": {},
   "outputs": [],
   "source": [
    "# Ensembles: Bagging, Ada Boost and Gradient Boosting\n",
    "def bagDTClassifier(X, y, n_estimators, max_samples, max_depth):\n",
    "    classifier = BaggingClassifier(DecisionTreeClassifier(max_depth=max_depth, criterion='entropy', random_state=0)\n",
    "                                   , n_estimators=n_estimators, max_samples=max_samples, random_state=0)\n",
    "    scores = cross_val_score(classifier, np.asarray(X, dtype='float64'), y, cv=cvKFold)\n",
    "    return scores.mean()\n",
    "\n",
    "def adaDTClassifier(X, y, n_estimators, learning_rate, max_depth):\n",
    "    classifier = AdaBoostClassifier(DecisionTreeClassifier(max_depth=max_depth, criterion='entropy', random_state=0)\n",
    "                                    , n_estimators=n_estimators, learning_rate=learning_rate, random_state=0)\n",
    "    scores = cross_val_score(classifier, np.asarray(X, dtype='float64'), y, cv=cvKFold)\n",
    "    return scores.mean()\n",
    "\n",
    "def gbClassifier(X, y, n_estimators, learning_rate):\n",
    "    classifier = GradientBoostingClassifier(n_estimators=n_estimators, learning_rate=learning_rate, random_state=0)\n",
    "    scores = cross_val_score(classifier, np.asarray(X, dtype='float64'), y, cv=cvKFold)\n",
    "    return scores.mean()"
   ]
  },
  {
   "cell_type": "markdown",
   "metadata": {},
   "source": [
    "### Part 1 Results"
   ]
  },
  {
   "cell_type": "code",
   "execution_count": 82,
   "metadata": {},
   "outputs": [
    {
     "name": "stdout",
     "output_type": "stream",
     "text": [
      "LogR average cross-validation accuracy:  0.9642443064182193\n",
      "NB average cross-validation accuracy:  0.9585093167701864\n",
      "DT average cross-validation accuracy:  0.9384679089026916\n",
      "Bagging average cross-validation accuracy:  0.9571014492753622\n",
      "AdaBoost average cross-validation accuracy:  0.9585093167701864\n",
      "GB average cross-validation accuracy:  0.9613457556935817\n"
     ]
    }
   ],
   "source": [
    "from sklearn.preprocessing import LabelEncoder\n",
    "\n",
    "# Parameters for Part 1:\n",
    "X_train, X_test, y_train, y_test = train_test_split(X, y, stratify=y, random_state=0)\n",
    "\n",
    "#Bagging\n",
    "bag_n_estimators = 60\n",
    "bag_max_samples = 100\n",
    "bag_max_depth = 6\n",
    "\n",
    "#AdaBoost\n",
    "ada_n_estimators = 60\n",
    "ada_learning_rate = 0.5\n",
    "ada_bag_max_depth = 6\n",
    "\n",
    "#GB\n",
    "gb_n_estimators = 60\n",
    "gb_learning_rate = 0.5\n",
    "\n",
    "# Print results for each classifier in part 1 to 4 decimal places here:\n",
    "print(\"LogR average cross-validation accuracy: \",logregClassifier(X, y))\n",
    "print(\"NB average cross-validation accuracy: \",nbClassifier(X, y))\n",
    "print(\"DT average cross-validation accuracy: \",dtClassifier(X, y))\n",
    "print(\"Bagging average cross-validation accuracy: \",bagDTClassifier(X, y, bag_n_estimators, bag_max_samples, bag_max_depth))\n",
    "print(\"AdaBoost average cross-validation accuracy: \",adaDTClassifier(X, y, ada_n_estimators, ada_learning_rate, ada_bag_max_depth))\n",
    "print(\"GB average cross-validation accuracy: \",gbClassifier(X, y, gb_n_estimators, gb_learning_rate))"
   ]
  },
  {
   "cell_type": "markdown",
   "metadata": {},
   "source": [
    "### Part 2: Cross-validation with parameter tuning"
   ]
  },
  {
   "cell_type": "code",
   "execution_count": 83,
   "metadata": {},
   "outputs": [],
   "source": [
    "# KNN\n",
    "k = [1, 3, 5, 7, 9]\n",
    "p = [1, 2]\n",
    "\n",
    "def bestKNNClassifier(X, y):\n",
    "    param_grid = {'n_neighbors':k, 'p':p}\n",
    "    knn = KNeighborsClassifier()\n",
    "    scores = GridSearchCV(knn, param_grid, cv=cvKFold, return_train_score=True)\n",
    "    scores.fit(X, y)\n",
    "    return scores"
   ]
  },
  {
   "cell_type": "code",
   "execution_count": 84,
   "metadata": {},
   "outputs": [],
   "source": [
    "# SVM\n",
    "# You should use SVC from sklearn.svm with kernel set to 'rbf'\n",
    "C = [0.01, 0.1, 1, 5, 15] \n",
    "gamma = [0.01, 0.1, 1, 10, 50]\n",
    "\n",
    "def bestSVMClassifier(X, y):\n",
    "    param_grid = {'C':C, 'gamma':gamma}\n",
    "    grid_search = GridSearchCV(SVC(kernel='rbf', random_state=0), param_grid, cv=cvKFold)\n",
    "    grid_search.fit(X, y)\n",
    "    return grid_search"
   ]
  },
  {
   "cell_type": "code",
   "execution_count": 85,
   "metadata": {},
   "outputs": [],
   "source": [
    "# Random Forest\n",
    "# You should use RandomForestClassifier from sklearn.ensemble with information gain and max_features set to ‘sqrt’.\n",
    "n_estimators = [10, 30, 60, 100, 150]\n",
    "max_leaf_nodes = [6, 12, 18]\n",
    "\n",
    "def bestRFClassifier(X, y):\n",
    "    param_grid = {'n_estimators':n_estimators, 'max_leaf_nodes':max_leaf_nodes}\n",
    "    X_train, X_test, y_train, y_test = train_test_split(X, y, stratify=y, random_state=0)\n",
    "    grid_search = GridSearchCV(RandomForestClassifier(random_state=0, criterion='entropy'), param_grid,  cv=cvKFold, return_train_score=True)\n",
    "    grid_search.fit(X_train, y_train)\n",
    "    return grid_search"
   ]
  },
  {
   "cell_type": "markdown",
   "metadata": {},
   "source": [
    "### Part 2: Results"
   ]
  },
  {
   "cell_type": "code",
   "execution_count": 86,
   "metadata": {},
   "outputs": [
    {
     "name": "stdout",
     "output_type": "stream",
     "text": [
      "KNN best k:  3\n",
      "KNN best p:  1\n",
      "KNN cross-validation accuracy:  0.9694847605224963\n",
      "KNN test set accuracy:  0.9542857142857143\n",
      "\n",
      "SVM best C:  5\n",
      "SVM best gamma:  0.1\n",
      "SVM cross-validation accuracy:  0.9676342525399129\n",
      "SVM test set accuracy:  0.9714285714285714\n",
      "\n",
      "RF best n_estimators:  150\n",
      "RF best max_leaf_nodes:  6\n",
      "RF cross-validation accuracy:  0.9675253991291728\n",
      "RF test set accuracy:  0.9657142857142857\n",
      "RF test set macro average F1:  0.9627976190476191\n",
      "RF test set weighted average F1:  0.9660714285714286\n"
     ]
    }
   ],
   "source": [
    "# Perform Grid Search with 10-fold stratified cross-validation (GridSearchCV in sklearn).\n",
    "# The stratified folds from cvKFold should be provided to GridSearchV\n",
    "\n",
    "# This should include using train_test_split from sklearn.model_selection with stratification and random_state=0\n",
    "# Print results for each classifier here. All results should be printed to 4 decimal places except for\n",
    "# \"k\", \"p\", n_estimators\" and \"max_leaf_nodes\" which should be printed as integers.\n",
    "X_train, X_test, y_train, y_test = train_test_split(X, y, stratify=y, random_state=0)\n",
    "\n",
    "bestKNN = bestKNNClassifier(X_train,y_train)\n",
    "\n",
    "print(\"KNN best k: \", bestKNN.best_params_['n_neighbors'])\n",
    "print(\"KNN best p: \", bestKNN.best_params_['p'])\n",
    "print(\"KNN cross-validation accuracy: \", bestKNN.best_score_)\n",
    "print(\"KNN test set accuracy: \", bestKNN.score(X_test, y_test))\n",
    "\n",
    "print()\n",
    "bestSVM = bestSVMClassifier(X_train, y_train)\n",
    "\n",
    "print(\"SVM best C: \", bestSVM.best_params_['C'])\n",
    "print(\"SVM best gamma: \", bestSVM.best_params_['gamma'])\n",
    "print(\"SVM cross-validation accuracy: \", bestSVM.best_score_)\n",
    "print(\"SVM test set accuracy: \", bestSVM.score(X_test, y_test))\n",
    "\n",
    "print()\n",
    "bestRFC = bestRFClassifier(X, y)\n",
    "y_predict = bestRFC.predict(X_test)\n",
    "\n",
    "print(\"RF best n_estimators: \", bestRFC.best_params_['n_estimators'])\n",
    "print(\"RF best max_leaf_nodes: \", bestRFC.best_params_['max_leaf_nodes'])\n",
    "print(\"RF cross-validation accuracy: \", bestRFC.best_score_)\n",
    "print(\"RF test set accuracy: \", bestRFC.score(X_test, y_test))\n",
    "print(\"RF test set macro average F1: \", f1_score(y_test, y_predict, average='macro'))\n",
    "print(\"RF test set weighted average F1: \", f1_score(y_test, y_predict, average='weighted'))"
   ]
  },
  {
   "cell_type": "code",
   "execution_count": null,
   "metadata": {},
   "outputs": [],
   "source": []
  }
 ],
 "metadata": {
  "kernelspec": {
   "display_name": "Python 3 (ipykernel)",
   "language": "python",
   "name": "python3"
  },
  "language_info": {
   "codemirror_mode": {
    "name": "ipython",
    "version": 3
   },
   "file_extension": ".py",
   "mimetype": "text/x-python",
   "name": "python",
   "nbconvert_exporter": "python",
   "pygments_lexer": "ipython3",
   "version": "3.10.10"
  }
 },
 "nbformat": 4,
 "nbformat_minor": 4
}
